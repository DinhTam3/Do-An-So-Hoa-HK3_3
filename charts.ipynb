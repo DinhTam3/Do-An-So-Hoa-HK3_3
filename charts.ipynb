{
 "cells": [
  {
   "cell_type": "code",
   "execution_count": 2,
   "metadata": {},
   "outputs": [],
   "source": [
    "import pandas as pd \n",
    "import numpy as np"
   ]
  },
  {
   "cell_type": "code",
   "execution_count": 3,
   "metadata": {},
   "outputs": [],
   "source": [
    "# đọc file dữ liệu đầu vào (định dạng file csv) \n",
    "dt = pd.read_csv('E:\\SoHoa\\Adidas US Datasets.csv')"
   ]
  },
  {
   "cell_type": "code",
   "execution_count": 4,
   "metadata": {},
   "outputs": [
    {
     "data": {
      "text/html": [
       "<div>\n",
       "<style scoped>\n",
       "    .dataframe tbody tr th:only-of-type {\n",
       "        vertical-align: middle;\n",
       "    }\n",
       "\n",
       "    .dataframe tbody tr th {\n",
       "        vertical-align: top;\n",
       "    }\n",
       "\n",
       "    .dataframe thead th {\n",
       "        text-align: right;\n",
       "    }\n",
       "</style>\n",
       "<table border=\"1\" class=\"dataframe\">\n",
       "  <thead>\n",
       "    <tr style=\"text-align: right;\">\n",
       "      <th></th>\n",
       "      <th>Retailer</th>\n",
       "      <th>Retailer ID</th>\n",
       "      <th>Invoice Date</th>\n",
       "      <th>Location Key</th>\n",
       "      <th>Product</th>\n",
       "      <th>Price per Unit</th>\n",
       "      <th>Units Sold</th>\n",
       "      <th>Total Sales</th>\n",
       "      <th>Operating Profit</th>\n",
       "      <th>Operating Margin</th>\n",
       "      <th>Sales Method</th>\n",
       "    </tr>\n",
       "  </thead>\n",
       "  <tbody>\n",
       "    <tr>\n",
       "      <th>0</th>\n",
       "      <td>Foot Locker</td>\n",
       "      <td>1185732</td>\n",
       "      <td>1/1/2020</td>\n",
       "      <td>New York-New York</td>\n",
       "      <td>Men's Street Footwear</td>\n",
       "      <td>$50.00</td>\n",
       "      <td>1,200</td>\n",
       "      <td>$600,000</td>\n",
       "      <td>$300,000</td>\n",
       "      <td>50%</td>\n",
       "      <td>In-store</td>\n",
       "    </tr>\n",
       "    <tr>\n",
       "      <th>1</th>\n",
       "      <td>Foot Locker</td>\n",
       "      <td>1185732</td>\n",
       "      <td>1/2/2020</td>\n",
       "      <td>New York-New York</td>\n",
       "      <td>Men's Athletic Footwear</td>\n",
       "      <td>$50.00</td>\n",
       "      <td>1,000</td>\n",
       "      <td>$500,000</td>\n",
       "      <td>$150,000</td>\n",
       "      <td>30%</td>\n",
       "      <td>In-store</td>\n",
       "    </tr>\n",
       "    <tr>\n",
       "      <th>2</th>\n",
       "      <td>Foot Locker</td>\n",
       "      <td>1185732</td>\n",
       "      <td>1/3/2020</td>\n",
       "      <td>New York-New York</td>\n",
       "      <td>Women's Street Footwear</td>\n",
       "      <td>$40.00</td>\n",
       "      <td>1,000</td>\n",
       "      <td>$400,000</td>\n",
       "      <td>$140,000</td>\n",
       "      <td>35%</td>\n",
       "      <td>In-store</td>\n",
       "    </tr>\n",
       "    <tr>\n",
       "      <th>3</th>\n",
       "      <td>Foot Locker</td>\n",
       "      <td>1185732</td>\n",
       "      <td>1/4/2020</td>\n",
       "      <td>New York-New York</td>\n",
       "      <td>Women's Athletic Footwear</td>\n",
       "      <td>$45.00</td>\n",
       "      <td>850</td>\n",
       "      <td>$382,500</td>\n",
       "      <td>$133,875</td>\n",
       "      <td>35%</td>\n",
       "      <td>In-store</td>\n",
       "    </tr>\n",
       "    <tr>\n",
       "      <th>4</th>\n",
       "      <td>Foot Locker</td>\n",
       "      <td>1185732</td>\n",
       "      <td>1/5/2020</td>\n",
       "      <td>New York-New York</td>\n",
       "      <td>Men's Apparel</td>\n",
       "      <td>$60.00</td>\n",
       "      <td>900</td>\n",
       "      <td>$540,000</td>\n",
       "      <td>$162,000</td>\n",
       "      <td>30%</td>\n",
       "      <td>In-store</td>\n",
       "    </tr>\n",
       "  </tbody>\n",
       "</table>\n",
       "</div>"
      ],
      "text/plain": [
       "      Retailer  Retailer ID Invoice Date       Location Key  \\\n",
       "0  Foot Locker      1185732     1/1/2020  New York-New York   \n",
       "1  Foot Locker      1185732     1/2/2020  New York-New York   \n",
       "2  Foot Locker      1185732     1/3/2020  New York-New York   \n",
       "3  Foot Locker      1185732     1/4/2020  New York-New York   \n",
       "4  Foot Locker      1185732     1/5/2020  New York-New York   \n",
       "\n",
       "                     Product Price per Unit Units Sold Total Sales  \\\n",
       "0      Men's Street Footwear        $50.00       1,200   $600,000    \n",
       "1    Men's Athletic Footwear        $50.00       1,000   $500,000    \n",
       "2    Women's Street Footwear        $40.00       1,000   $400,000    \n",
       "3  Women's Athletic Footwear        $45.00         850   $382,500    \n",
       "4              Men's Apparel        $60.00         900   $540,000    \n",
       "\n",
       "  Operating Profit Operating Margin Sales Method  \n",
       "0        $300,000               50%     In-store  \n",
       "1        $150,000               30%     In-store  \n",
       "2        $140,000               35%     In-store  \n",
       "3        $133,875               35%     In-store  \n",
       "4        $162,000               30%     In-store  "
      ]
     },
     "execution_count": 4,
     "metadata": {},
     "output_type": "execute_result"
    }
   ],
   "source": [
    "# xem 5 dòng dữ liệu đầu tiên\n",
    "# xem 5 dòng dữ liệu cuối cùng có thể dùng câu lệnh dt.tail() \n",
    "dt.head()"
   ]
  },
  {
   "cell_type": "code",
   "execution_count": 5,
   "metadata": {},
   "outputs": [
    {
     "data": {
      "text/plain": [
       "(9648, 11)"
      ]
     },
     "execution_count": 5,
     "metadata": {},
     "output_type": "execute_result"
    }
   ],
   "source": [
    "# kiểm tra kích thước của tệp dữ liệu \n",
    "dt.shape"
   ]
  },
  {
   "cell_type": "markdown",
   "metadata": {},
   "source": [
    "ta thấy có tổng 9648 dòng và 11 cột trong tệp dữ liệu "
   ]
  },
  {
   "cell_type": "code",
   "execution_count": 6,
   "metadata": {},
   "outputs": [
    {
     "name": "stdout",
     "output_type": "stream",
     "text": [
      "<class 'pandas.core.frame.DataFrame'>\n",
      "RangeIndex: 9648 entries, 0 to 9647\n",
      "Data columns (total 11 columns):\n",
      " #   Column            Non-Null Count  Dtype \n",
      "---  ------            --------------  ----- \n",
      " 0   Retailer          9648 non-null   object\n",
      " 1   Retailer ID       9648 non-null   int64 \n",
      " 2   Invoice Date      9648 non-null   object\n",
      " 3   Location Key      9648 non-null   object\n",
      " 4   Product           9648 non-null   object\n",
      " 5   Price per Unit    9648 non-null   object\n",
      " 6   Units Sold        9648 non-null   object\n",
      " 7   Total Sales       9648 non-null   object\n",
      " 8   Operating Profit  9648 non-null   object\n",
      " 9   Operating Margin  9648 non-null   object\n",
      " 10  Sales Method      9648 non-null   object\n",
      "dtypes: int64(1), object(10)\n",
      "memory usage: 829.2+ KB\n"
     ]
    }
   ],
   "source": [
    "# xem thống kê của tệp dữ liệu \n",
    "dt.info()"
   ]
  },
  {
   "cell_type": "markdown",
   "metadata": {},
   "source": [
    "ta thấy chỉ có cột 'Retailer Id' là kiểu int64, các cột còn lại là object (string)\n",
    "nhưng để có thể tính toán và trực quan hóa dữ liệu chúng ta cần chuyển đổi kiểu dữ liệu của các cột \n",
    "(Price per Unit, Units Sold, Total Sales,  Operating Profit) này thành kiểu int64 "
   ]
  },
  {
   "cell_type": "markdown",
   "metadata": {},
   "source": [
    "để chắc chắn không ảnh hưởng đến tệp dữ liệu gốc ta sao chép tệp này ra và lưu vào một biến khác \n",
    "ta có thể dùng hàm df.copy()"
   ]
  },
  {
   "cell_type": "code",
   "execution_count": 7,
   "metadata": {},
   "outputs": [],
   "source": [
    "df = dt.copy(deep=True)"
   ]
  },
  {
   "cell_type": "markdown",
   "metadata": {},
   "source": [
    "tiếp theo đây, ta sẽ tiến hành xử lý cho các cột (Price per Unit, Units Sold, Total Sales,  Operating Profit) "
   ]
  },
  {
   "cell_type": "code",
   "execution_count": 8,
   "metadata": {},
   "outputs": [
    {
     "data": {
      "text/plain": [
       "array(['$50.00 ', '$40.00 ', '$45.00 ', '$60.00 ', '$55.00 ', '$65.00 ',\n",
       "       '$70.00 ', '$25.00 ', '$35.00 ', '$30.00 ', '$80.00 ', '$75.00 ',\n",
       "       '$20.00 ', '$85.00 ', '$100.00 ', '$90.00 ', '$95.00 ', '$15.00 ',\n",
       "       '$10.00 ', '$110.00 ', '$105.00 ', '$47.00 ', '$36.00 ', '$41.00 ',\n",
       "       '$46.00 ', '$44.00 ', '$58.00 ', '$48.00 ', '$39.00 ', '$43.00 ',\n",
       "       '$59.00 ', '$56.00 ', '$49.00 ', '$54.00 ', '$64.00 ', '$53.00 ',\n",
       "       '$61.00 ', '$62.00 ', '$68.00 ', '$52.00 ', '$66.00 ', '$51.00 ',\n",
       "       '$24.00 ', '$34.00 ', '$33.00 ', '$23.00 ', '$32.00 ', '$38.00 ',\n",
       "       '$29.00 ', '$37.00 ', '$27.00 ', '$42.00 ', '$72.00 ', '$63.00 ',\n",
       "       '$69.00 ', '$76.00 ', '$67.00 ', '$57.00 ', '$28.00 ', '$18.00 ',\n",
       "       '$19.00 ', '$71.00 ', '$78.00 ', '$73.00 ', '$74.00 ', '$83.00 ',\n",
       "       '$82.00 ', '$98.00 ', '$77.00 ', '$88.00 ', '$86.00 ', '$14.00 ',\n",
       "       '$9.00 ', '$97.00 ', '$81.00 ', '$79.00 ', '$96.00 ', '$84.00 ',\n",
       "       '$89.00 ', '$103.00 ', '$101.00 ', '$87.00 ', '$92.00 ', '$31.00 ',\n",
       "       '$26.00 ', '$21.00 ', '$13.00 ', '$22.00 ', '$17.00 ', '$12.00 ',\n",
       "       '$16.00 ', '$11.00 ', '$7.00 ', '$8.00 '], dtype=object)"
      ]
     },
     "execution_count": 8,
     "metadata": {},
     "output_type": "execute_result"
    }
   ],
   "source": [
    "# đầu tiên là xử lý cột Price per Unit\n",
    "df['Price per Unit'].unique()"
   ]
  },
  {
   "cell_type": "code",
   "execution_count": 9,
   "metadata": {},
   "outputs": [],
   "source": [
    "df['Price per Unit'] = df['Price per Unit'].apply(lambda x: x.replace(',', ''))\n",
    "df['Price per Unit'] = df['Price per Unit'].apply(lambda x: x.replace('$', ''))\n",
    "df['Price per Unit'] = df['Price per Unit'].apply(lambda x: x.replace(' ', ''))\n",
    "df['Price per Unit'] = df['Price per Unit'].apply(lambda x: x.replace('.00', ''))"
   ]
  },
  {
   "cell_type": "code",
   "execution_count": 10,
   "metadata": {},
   "outputs": [
    {
     "data": {
      "text/plain": [
       "0       50\n",
       "1       50\n",
       "2       40\n",
       "3       45\n",
       "4       60\n",
       "        ..\n",
       "9643    50\n",
       "9644    41\n",
       "9645    41\n",
       "9646    42\n",
       "9647    29\n",
       "Name: Price per Unit, Length: 9648, dtype: object"
      ]
     },
     "execution_count": 10,
     "metadata": {},
     "output_type": "execute_result"
    }
   ],
   "source": [
    "# kiểm tra lại cột xem đã đúng như mong đợi chưa\n",
    "df['Price per Unit']"
   ]
  },
  {
   "cell_type": "code",
   "execution_count": 11,
   "metadata": {},
   "outputs": [
    {
     "data": {
      "text/plain": [
       "0       50.0\n",
       "1       50.0\n",
       "2       40.0\n",
       "3       45.0\n",
       "4       60.0\n",
       "        ... \n",
       "9643    50.0\n",
       "9644    41.0\n",
       "9645    41.0\n",
       "9646    42.0\n",
       "9647    29.0\n",
       "Name: Price per Unit, Length: 9648, dtype: float64"
      ]
     },
     "execution_count": 11,
     "metadata": {},
     "output_type": "execute_result"
    }
   ],
   "source": [
    "# tiếp theo sẽ là chuyển đổi kiểu dữ liệu cho cột Price per Unit từ object thành int hoặc float\n",
    "df['Price per Unit'] = df['Price per Unit'].astype(float)\n",
    "df['Price per Unit']"
   ]
  },
  {
   "cell_type": "code",
   "execution_count": 12,
   "metadata": {},
   "outputs": [],
   "source": [
    "# các cột còn lại ta cũng làm tương tự\n",
    "df['Total Sales'] = df['Total Sales'].apply(lambda x: x.replace('$', ''))\n",
    "df['Total Sales'] = df['Total Sales'].apply(lambda x: x.replace(',', ''))"
   ]
  },
  {
   "cell_type": "code",
   "execution_count": 13,
   "metadata": {},
   "outputs": [
    {
     "data": {
      "text/plain": [
       "0       600000.0\n",
       "1       500000.0\n",
       "2       400000.0\n",
       "3       382500.0\n",
       "4       540000.0\n",
       "          ...   \n",
       "9643      3200.0\n",
       "9644      4305.0\n",
       "9645      7544.0\n",
       "9646      2940.0\n",
       "9647      2407.0\n",
       "Name: Total Sales, Length: 9648, dtype: float64"
      ]
     },
     "execution_count": 13,
     "metadata": {},
     "output_type": "execute_result"
    }
   ],
   "source": [
    "df['Total Sales'] = df['Total Sales'].astype(float)\n",
    "df['Total Sales']"
   ]
  },
  {
   "cell_type": "code",
   "execution_count": 14,
   "metadata": {},
   "outputs": [
    {
     "data": {
      "text/plain": [
       "0       300000.0\n",
       "1       150000.0\n",
       "2       140000.0\n",
       "3       133875.0\n",
       "4       162000.0\n",
       "          ...   \n",
       "9643       896.0\n",
       "9644      1378.0\n",
       "9645      2791.0\n",
       "9646      1235.0\n",
       "9647       650.0\n",
       "Name: Operating Profit, Length: 9648, dtype: float64"
      ]
     },
     "execution_count": 14,
     "metadata": {},
     "output_type": "execute_result"
    }
   ],
   "source": [
    "df['Operating Profit'] = df['Operating Profit'].apply(lambda x: x.replace('$', ''))\n",
    "df['Operating Profit'] = df['Operating Profit'].apply(lambda x: x.replace(',', ''))\n",
    "df['Operating Profit'] = df['Operating Profit'].astype(float)\n",
    "df['Operating Profit']"
   ]
  },
  {
   "cell_type": "code",
   "execution_count": 15,
   "metadata": {},
   "outputs": [
    {
     "data": {
      "text/plain": [
       "0       1200.0\n",
       "1       1000.0\n",
       "2       1000.0\n",
       "3        850.0\n",
       "4        900.0\n",
       "         ...  \n",
       "9643      64.0\n",
       "9644     105.0\n",
       "9645     184.0\n",
       "9646      70.0\n",
       "9647      83.0\n",
       "Name: Units Sold, Length: 9648, dtype: float64"
      ]
     },
     "execution_count": 15,
     "metadata": {},
     "output_type": "execute_result"
    }
   ],
   "source": [
    "df['Units Sold'] = df['Units Sold'].apply(lambda x: x.replace(',', ''))\n",
    "df['Units Sold'] = df['Units Sold'].astype(float)\n",
    "df['Units Sold']"
   ]
  },
  {
   "cell_type": "code",
   "execution_count": 16,
   "metadata": {},
   "outputs": [
    {
     "name": "stdout",
     "output_type": "stream",
     "text": [
      "<class 'pandas.core.frame.DataFrame'>\n",
      "RangeIndex: 9648 entries, 0 to 9647\n",
      "Data columns (total 11 columns):\n",
      " #   Column            Non-Null Count  Dtype  \n",
      "---  ------            --------------  -----  \n",
      " 0   Retailer          9648 non-null   object \n",
      " 1   Retailer ID       9648 non-null   int64  \n",
      " 2   Invoice Date      9648 non-null   object \n",
      " 3   Location Key      9648 non-null   object \n",
      " 4   Product           9648 non-null   object \n",
      " 5   Price per Unit    9648 non-null   float64\n",
      " 6   Units Sold        9648 non-null   float64\n",
      " 7   Total Sales       9648 non-null   float64\n",
      " 8   Operating Profit  9648 non-null   float64\n",
      " 9   Operating Margin  9648 non-null   object \n",
      " 10  Sales Method      9648 non-null   object \n",
      "dtypes: float64(4), int64(1), object(6)\n",
      "memory usage: 829.2+ KB\n"
     ]
    }
   ],
   "source": [
    "# kiểm tra lại thông kê cho DataFrame \n",
    "df.info()"
   ]
  },
  {
   "cell_type": "markdown",
   "metadata": {},
   "source": [
    "tiếp theo ta sẽ tiền hành trực quan hóa các dữ liệu"
   ]
  },
  {
   "cell_type": "code",
   "execution_count": 17,
   "metadata": {},
   "outputs": [
    {
     "data": {
      "text/plain": [
       "array(['Foot Locker', 'Walmart', 'Sports Direct', 'West Gear', \"Kohl's\",\n",
       "       'Amazon'], dtype=object)"
      ]
     },
     "execution_count": 17,
     "metadata": {},
     "output_type": "execute_result"
    }
   ],
   "source": [
    "retailer = df['Retailer'].unique()\n",
    "retailer"
   ]
  },
  {
   "cell_type": "code",
   "execution_count": 18,
   "metadata": {},
   "outputs": [
    {
     "data": {
      "text/plain": [
       "{'Foot Locker': 220094720.0,\n",
       " 'Walmart': 74558410.0,\n",
       " 'Sports Direct': 182470997.0,\n",
       " 'West Gear': 242964333.0,\n",
       " \"Kohl's\": 102114753.0,\n",
       " 'Amazon': 77698912.0}"
      ]
     },
     "execution_count": 18,
     "metadata": {},
     "output_type": "execute_result"
    }
   ],
   "source": [
    "sale_by_retailer = {}\n",
    "for item in retailer:\n",
    "    rows = df[df['Retailer'] == item]\n",
    "    total_sale = rows['Total Sales'].sum()\n",
    "    sale_by_retailer[item] = total_sale\n",
    "sale_by_retailer"
   ]
  },
  {
   "cell_type": "code",
   "execution_count": 19,
   "metadata": {},
   "outputs": [],
   "source": [
    "# thêm các thư viện vẽ biểu đồ\n",
    "import matplotlib.pyplot as plt \n",
    "import seaborn as sns"
   ]
  },
  {
   "cell_type": "code",
   "execution_count": 20,
   "metadata": {},
   "outputs": [],
   "source": [
    "name_retailer = []\n",
    "value_retailer = []\n",
    "for item in sale_by_retailer:\n",
    "    name = item \n",
    "    value = sale_by_retailer[item]\n",
    "    name_retailer.append(name)\n",
    "    value_retailer.append(value)"
   ]
  },
  {
   "cell_type": "code",
   "execution_count": 21,
   "metadata": {},
   "outputs": [
    {
     "data": {
      "text/plain": [
       "['Foot Locker', 'Walmart', 'Sports Direct', 'West Gear', \"Kohl's\", 'Amazon']"
      ]
     },
     "execution_count": 21,
     "metadata": {},
     "output_type": "execute_result"
    }
   ],
   "source": [
    "name_retailer"
   ]
  },
  {
   "cell_type": "code",
   "execution_count": 22,
   "metadata": {},
   "outputs": [
    {
     "data": {
      "text/plain": [
       "[220094720.0, 74558410.0, 182470997.0, 242964333.0, 102114753.0, 77698912.0]"
      ]
     },
     "execution_count": 22,
     "metadata": {},
     "output_type": "execute_result"
    }
   ],
   "source": [
    "value_retailer"
   ]
  },
  {
   "cell_type": "code",
   "execution_count": 23,
   "metadata": {},
   "outputs": [
    {
     "data": {
      "image/png": "[encoded data removed]",
      "text/plain": [
       "<Figure size 800x600 with 1 Axes>"
      ]
     },
     "metadata": {},
     "output_type": "display_data"
    }
   ],
   "source": [
    "plt.figure(figsize=(8,6))\n",
    "plt.barh(name_retailer, value_retailer)\n",
    "plt.ticklabel_format(axis='x', style='plain')\n",
    "plt.title('Sales by Retailer')\n",
    "plt.xlabel('Total Sales')\n",
    "plt.ylabel('Retailer')\n",
    "plt.show()"
   ]
  },
  {
   "cell_type": "markdown",
   "metadata": {},
   "source": [
    "biểu đồ trên là tổng doanh thu cho cả 2 năm là 2020 và 2021"
   ]
  },
  {
   "cell_type": "code",
   "execution_count": 24,
   "metadata": {},
   "outputs": [],
   "source": [
    "import datetime as dt "
   ]
  },
  {
   "cell_type": "markdown",
   "metadata": {},
   "source": [
    "ta chuyển đổi kiểu dữ liệu cho cột Invoice Date từ Object thành Datetime giúp xử lý dẽ dàng hơn với kiểu dữ liệu ngày tháng "
   ]
  },
  {
   "cell_type": "code",
   "execution_count": 28,
   "metadata": {},
   "outputs": [],
   "source": [
    "df['Invoice Date'] = pd.to_datetime(df['Invoice Date'])"
   ]
  },
  {
   "cell_type": "code",
   "execution_count": 29,
   "metadata": {},
   "outputs": [
    {
     "name": "stdout",
     "output_type": "stream",
     "text": [
      "<class 'pandas.core.frame.DataFrame'>\n",
      "RangeIndex: 9648 entries, 0 to 9647\n",
      "Data columns (total 11 columns):\n",
      " #   Column            Non-Null Count  Dtype         \n",
      "---  ------            --------------  -----         \n",
      " 0   Retailer          9648 non-null   object        \n",
      " 1   Retailer ID       9648 non-null   int64         \n",
      " 2   Invoice Date      9648 non-null   datetime64[ns]\n",
      " 3   Location Key      9648 non-null   object        \n",
      " 4   Product           9648 non-null   object        \n",
      " 5   Price per Unit    9648 non-null   float64       \n",
      " 6   Units Sold        9648 non-null   float64       \n",
      " 7   Total Sales       9648 non-null   float64       \n",
      " 8   Operating Profit  9648 non-null   float64       \n",
      " 9   Operating Margin  9648 non-null   object        \n",
      " 10  Sales Method      9648 non-null   object        \n",
      "dtypes: datetime64[ns](1), float64(4), int64(1), object(5)\n",
      "memory usage: 829.2+ KB\n"
     ]
    }
   ],
   "source": [
    "df.info()"
   ]
  },
  {
   "cell_type": "markdown",
   "metadata": {},
   "source": [
    "ta đọc file 'Location Adidas US Datasets.csv' để nối với dataset hiện tại.\n",
    "Do file 'Location Adidas US Datasets.csv' chứa dữ liệu liên quan đến khu vực nên ta cần phải nối chúng để có bộ dữ liệu đầy đủ hơn"
   ]
  },
  {
   "cell_type": "markdown",
   "metadata": {},
   "source": [
    "đầu tiên ta cần đọc file dữ liệu 'Location Adidas US Datasets.csv'"
   ]
  },
  {
   "cell_type": "code",
   "execution_count": 30,
   "metadata": {},
   "outputs": [],
   "source": [
    "df_loc = pd.read_csv(\"Location Adidas US Datasets.csv\")"
   ]
  },
  {
   "cell_type": "code",
   "execution_count": 31,
   "metadata": {},
   "outputs": [
    {
     "name": "stdout",
     "output_type": "stream",
     "text": [
      "<class 'pandas.core.frame.DataFrame'>\n",
      "RangeIndex: 54 entries, 0 to 53\n",
      "Data columns (total 4 columns):\n",
      " #   Column       Non-Null Count  Dtype \n",
      "---  ------       --------------  ----- \n",
      " 0   Region       54 non-null     object\n",
      " 1   State        54 non-null     object\n",
      " 2   City         54 non-null     object\n",
      " 3   LocationKey  54 non-null     object\n",
      "dtypes: object(4)\n",
      "memory usage: 1.8+ KB\n"
     ]
    }
   ],
   "source": [
    "df_loc.info()"
   ]
  },
  {
   "cell_type": "markdown",
   "metadata": {},
   "source": [
    "ta sẽ tiến hành nối hai bảng 'Adidas US Datasets.csv' và 'Location Adidas US Datasets.csv' lại với nhau "
   ]
  },
  {
   "cell_type": "markdown",
   "metadata": {},
   "source": [
    "ta sẽ đổi tên cột giống nhau để nối hai bảng"
   ]
  },
  {
   "cell_type": "code",
   "execution_count": 46,
   "metadata": {},
   "outputs": [],
   "source": [
    "df_loc.rename(columns={'LocationKey': 'Location Key'}, inplace = True)"
   ]
  },
  {
   "cell_type": "code",
   "execution_count": 47,
   "metadata": {},
   "outputs": [
    {
     "data": {
      "text/plain": [
       "Index(['Region', 'State', 'City', 'Location Key'], dtype='object')"
      ]
     },
     "execution_count": 47,
     "metadata": {},
     "output_type": "execute_result"
    }
   ],
   "source": [
    "df_loc.columns"
   ]
  },
  {
   "cell_type": "markdown",
   "metadata": {},
   "source": [
    "ta thấy sau khi đổi tên cột thì cột 'Location Key' ở cả hai bảng đã giống hệt nhau"
   ]
  },
  {
   "cell_type": "code",
   "execution_count": 48,
   "metadata": {},
   "outputs": [],
   "source": [
    "dfn = df.merge(df_loc, how='inner', on='Location Key')"
   ]
  },
  {
   "cell_type": "code",
   "execution_count": 49,
   "metadata": {},
   "outputs": [
    {
     "data": {
      "text/html": [
       "<div>\n",
       "<style scoped>\n",
       "    .dataframe tbody tr th:only-of-type {\n",
       "        vertical-align: middle;\n",
       "    }\n",
       "\n",
       "    .dataframe tbody tr th {\n",
       "        vertical-align: top;\n",
       "    }\n",
       "\n",
       "    .dataframe thead th {\n",
       "        text-align: right;\n",
       "    }\n",
       "</style>\n",
       "<table border=\"1\" class=\"dataframe\">\n",
       "  <thead>\n",
       "    <tr style=\"text-align: right;\">\n",
       "      <th></th>\n",
       "      <th>Retailer</th>\n",
       "      <th>Retailer ID</th>\n",
       "      <th>Invoice Date</th>\n",
       "      <th>Location Key</th>\n",
       "      <th>Product</th>\n",
       "      <th>Price per Unit</th>\n",
       "      <th>Units Sold</th>\n",
       "      <th>Total Sales</th>\n",
       "      <th>Operating Profit</th>\n",
       "      <th>Operating Margin</th>\n",
       "      <th>Sales Method</th>\n",
       "      <th>Region</th>\n",
       "      <th>State</th>\n",
       "      <th>City</th>\n",
       "    </tr>\n",
       "  </thead>\n",
       "  <tbody>\n",
       "    <tr>\n",
       "      <th>0</th>\n",
       "      <td>Foot Locker</td>\n",
       "      <td>1185732</td>\n",
       "      <td>2020-01-01</td>\n",
       "      <td>New York-New York</td>\n",
       "      <td>Men's Street Footwear</td>\n",
       "      <td>50.0</td>\n",
       "      <td>1200.0</td>\n",
       "      <td>600000.0</td>\n",
       "      <td>300000.0</td>\n",
       "      <td>50%</td>\n",
       "      <td>In-store</td>\n",
       "      <td>Northeast</td>\n",
       "      <td>New York</td>\n",
       "      <td>New York</td>\n",
       "    </tr>\n",
       "    <tr>\n",
       "      <th>1</th>\n",
       "      <td>Foot Locker</td>\n",
       "      <td>1185732</td>\n",
       "      <td>2020-01-02</td>\n",
       "      <td>New York-New York</td>\n",
       "      <td>Men's Athletic Footwear</td>\n",
       "      <td>50.0</td>\n",
       "      <td>1000.0</td>\n",
       "      <td>500000.0</td>\n",
       "      <td>150000.0</td>\n",
       "      <td>30%</td>\n",
       "      <td>In-store</td>\n",
       "      <td>Northeast</td>\n",
       "      <td>New York</td>\n",
       "      <td>New York</td>\n",
       "    </tr>\n",
       "    <tr>\n",
       "      <th>2</th>\n",
       "      <td>Foot Locker</td>\n",
       "      <td>1185732</td>\n",
       "      <td>2020-01-03</td>\n",
       "      <td>New York-New York</td>\n",
       "      <td>Women's Street Footwear</td>\n",
       "      <td>40.0</td>\n",
       "      <td>1000.0</td>\n",
       "      <td>400000.0</td>\n",
       "      <td>140000.0</td>\n",
       "      <td>35%</td>\n",
       "      <td>In-store</td>\n",
       "      <td>Northeast</td>\n",
       "      <td>New York</td>\n",
       "      <td>New York</td>\n",
       "    </tr>\n",
       "    <tr>\n",
       "      <th>3</th>\n",
       "      <td>Foot Locker</td>\n",
       "      <td>1185732</td>\n",
       "      <td>2020-01-04</td>\n",
       "      <td>New York-New York</td>\n",
       "      <td>Women's Athletic Footwear</td>\n",
       "      <td>45.0</td>\n",
       "      <td>850.0</td>\n",
       "      <td>382500.0</td>\n",
       "      <td>133875.0</td>\n",
       "      <td>35%</td>\n",
       "      <td>In-store</td>\n",
       "      <td>Northeast</td>\n",
       "      <td>New York</td>\n",
       "      <td>New York</td>\n",
       "    </tr>\n",
       "    <tr>\n",
       "      <th>4</th>\n",
       "      <td>Foot Locker</td>\n",
       "      <td>1185732</td>\n",
       "      <td>2020-01-05</td>\n",
       "      <td>New York-New York</td>\n",
       "      <td>Men's Apparel</td>\n",
       "      <td>60.0</td>\n",
       "      <td>900.0</td>\n",
       "      <td>540000.0</td>\n",
       "      <td>162000.0</td>\n",
       "      <td>30%</td>\n",
       "      <td>In-store</td>\n",
       "      <td>Northeast</td>\n",
       "      <td>New York</td>\n",
       "      <td>New York</td>\n",
       "    </tr>\n",
       "    <tr>\n",
       "      <th>...</th>\n",
       "      <td>...</td>\n",
       "      <td>...</td>\n",
       "      <td>...</td>\n",
       "      <td>...</td>\n",
       "      <td>...</td>\n",
       "      <td>...</td>\n",
       "      <td>...</td>\n",
       "      <td>...</td>\n",
       "      <td>...</td>\n",
       "      <td>...</td>\n",
       "      <td>...</td>\n",
       "      <td>...</td>\n",
       "      <td>...</td>\n",
       "      <td>...</td>\n",
       "    </tr>\n",
       "    <tr>\n",
       "      <th>9643</th>\n",
       "      <td>Foot Locker</td>\n",
       "      <td>1185732</td>\n",
       "      <td>2021-01-24</td>\n",
       "      <td>New Hampshire-Manchester</td>\n",
       "      <td>Men's Apparel</td>\n",
       "      <td>50.0</td>\n",
       "      <td>64.0</td>\n",
       "      <td>3200.0</td>\n",
       "      <td>896.0</td>\n",
       "      <td>28%</td>\n",
       "      <td>Outlet</td>\n",
       "      <td>Northeast</td>\n",
       "      <td>New Hampshire</td>\n",
       "      <td>Manchester</td>\n",
       "    </tr>\n",
       "    <tr>\n",
       "      <th>9644</th>\n",
       "      <td>Foot Locker</td>\n",
       "      <td>1185732</td>\n",
       "      <td>2021-01-24</td>\n",
       "      <td>New Hampshire-Manchester</td>\n",
       "      <td>Women's Apparel</td>\n",
       "      <td>41.0</td>\n",
       "      <td>105.0</td>\n",
       "      <td>4305.0</td>\n",
       "      <td>1378.0</td>\n",
       "      <td>32%</td>\n",
       "      <td>Outlet</td>\n",
       "      <td>Northeast</td>\n",
       "      <td>New Hampshire</td>\n",
       "      <td>Manchester</td>\n",
       "    </tr>\n",
       "    <tr>\n",
       "      <th>9645</th>\n",
       "      <td>Foot Locker</td>\n",
       "      <td>1185732</td>\n",
       "      <td>2021-02-22</td>\n",
       "      <td>New Hampshire-Manchester</td>\n",
       "      <td>Men's Street Footwear</td>\n",
       "      <td>41.0</td>\n",
       "      <td>184.0</td>\n",
       "      <td>7544.0</td>\n",
       "      <td>2791.0</td>\n",
       "      <td>37%</td>\n",
       "      <td>Outlet</td>\n",
       "      <td>Northeast</td>\n",
       "      <td>New Hampshire</td>\n",
       "      <td>Manchester</td>\n",
       "    </tr>\n",
       "    <tr>\n",
       "      <th>9646</th>\n",
       "      <td>Foot Locker</td>\n",
       "      <td>1185732</td>\n",
       "      <td>2021-02-22</td>\n",
       "      <td>New Hampshire-Manchester</td>\n",
       "      <td>Men's Athletic Footwear</td>\n",
       "      <td>42.0</td>\n",
       "      <td>70.0</td>\n",
       "      <td>2940.0</td>\n",
       "      <td>1235.0</td>\n",
       "      <td>42%</td>\n",
       "      <td>Outlet</td>\n",
       "      <td>Northeast</td>\n",
       "      <td>New Hampshire</td>\n",
       "      <td>Manchester</td>\n",
       "    </tr>\n",
       "    <tr>\n",
       "      <th>9647</th>\n",
       "      <td>Foot Locker</td>\n",
       "      <td>1185732</td>\n",
       "      <td>2021-02-22</td>\n",
       "      <td>New Hampshire-Manchester</td>\n",
       "      <td>Women's Street Footwear</td>\n",
       "      <td>29.0</td>\n",
       "      <td>83.0</td>\n",
       "      <td>2407.0</td>\n",
       "      <td>650.0</td>\n",
       "      <td>27%</td>\n",
       "      <td>Outlet</td>\n",
       "      <td>Northeast</td>\n",
       "      <td>New Hampshire</td>\n",
       "      <td>Manchester</td>\n",
       "    </tr>\n",
       "  </tbody>\n",
       "</table>\n",
       "<p>9648 rows × 14 columns</p>\n",
       "</div>"
      ],
      "text/plain": [
       "         Retailer  Retailer ID Invoice Date              Location Key  \\\n",
       "0     Foot Locker      1185732   2020-01-01         New York-New York   \n",
       "1     Foot Locker      1185732   2020-01-02         New York-New York   \n",
       "2     Foot Locker      1185732   2020-01-03         New York-New York   \n",
       "3     Foot Locker      1185732   2020-01-04         New York-New York   \n",
       "4     Foot Locker      1185732   2020-01-05         New York-New York   \n",
       "...           ...          ...          ...                       ...   \n",
       "9643  Foot Locker      1185732   2021-01-24  New Hampshire-Manchester   \n",
       "9644  Foot Locker      1185732   2021-01-24  New Hampshire-Manchester   \n",
       "9645  Foot Locker      1185732   2021-02-22  New Hampshire-Manchester   \n",
       "9646  Foot Locker      1185732   2021-02-22  New Hampshire-Manchester   \n",
       "9647  Foot Locker      1185732   2021-02-22  New Hampshire-Manchester   \n",
       "\n",
       "                        Product  Price per Unit  Units Sold  Total Sales  \\\n",
       "0         Men's Street Footwear            50.0      1200.0     600000.0   \n",
       "1       Men's Athletic Footwear            50.0      1000.0     500000.0   \n",
       "2       Women's Street Footwear            40.0      1000.0     400000.0   \n",
       "3     Women's Athletic Footwear            45.0       850.0     382500.0   \n",
       "4                 Men's Apparel            60.0       900.0     540000.0   \n",
       "...                         ...             ...         ...          ...   \n",
       "9643              Men's Apparel            50.0        64.0       3200.0   \n",
       "9644            Women's Apparel            41.0       105.0       4305.0   \n",
       "9645      Men's Street Footwear            41.0       184.0       7544.0   \n",
       "9646    Men's Athletic Footwear            42.0        70.0       2940.0   \n",
       "9647    Women's Street Footwear            29.0        83.0       2407.0   \n",
       "\n",
       "      Operating Profit Operating Margin Sales Method     Region  \\\n",
       "0             300000.0              50%     In-store  Northeast   \n",
       "1             150000.0              30%     In-store  Northeast   \n",
       "2             140000.0              35%     In-store  Northeast   \n",
       "3             133875.0              35%     In-store  Northeast   \n",
       "4             162000.0              30%     In-store  Northeast   \n",
       "...                ...              ...          ...        ...   \n",
       "9643             896.0              28%       Outlet  Northeast   \n",
       "9644            1378.0              32%       Outlet  Northeast   \n",
       "9645            2791.0              37%       Outlet  Northeast   \n",
       "9646            1235.0              42%       Outlet  Northeast   \n",
       "9647             650.0              27%       Outlet  Northeast   \n",
       "\n",
       "              State        City  \n",
       "0          New York    New York  \n",
       "1          New York    New York  \n",
       "2          New York    New York  \n",
       "3          New York    New York  \n",
       "4          New York    New York  \n",
       "...             ...         ...  \n",
       "9643  New Hampshire  Manchester  \n",
       "9644  New Hampshire  Manchester  \n",
       "9645  New Hampshire  Manchester  \n",
       "9646  New Hampshire  Manchester  \n",
       "9647  New Hampshire  Manchester  \n",
       "\n",
       "[9648 rows x 14 columns]"
      ]
     },
     "execution_count": 49,
     "metadata": {},
     "output_type": "execute_result"
    }
   ],
   "source": [
    "dfn"
   ]
  },
  {
   "cell_type": "markdown",
   "metadata": {},
   "source": [
    "vì ta có 2 năm là 2020 và 2021 nên bây giờ ta sẽ tách hai năm riêng biệt để so sánh "
   ]
  },
  {
   "cell_type": "code",
   "execution_count": 58,
   "metadata": {},
   "outputs": [],
   "source": [
    "dfn_2020 = dfn[dfn['Invoice Date'].between('1/1/2020', '12/31/2020')]"
   ]
  },
  {
   "cell_type": "code",
   "execution_count": 59,
   "metadata": {},
   "outputs": [
    {
     "data": {
      "text/html": [
       "<div>\n",
       "<style scoped>\n",
       "    .dataframe tbody tr th:only-of-type {\n",
       "        vertical-align: middle;\n",
       "    }\n",
       "\n",
       "    .dataframe tbody tr th {\n",
       "        vertical-align: top;\n",
       "    }\n",
       "\n",
       "    .dataframe thead th {\n",
       "        text-align: right;\n",
       "    }\n",
       "</style>\n",
       "<table border=\"1\" class=\"dataframe\">\n",
       "  <thead>\n",
       "    <tr style=\"text-align: right;\">\n",
       "      <th></th>\n",
       "      <th>Retailer</th>\n",
       "      <th>Retailer ID</th>\n",
       "      <th>Invoice Date</th>\n",
       "      <th>Location Key</th>\n",
       "      <th>Product</th>\n",
       "      <th>Price per Unit</th>\n",
       "      <th>Units Sold</th>\n",
       "      <th>Total Sales</th>\n",
       "      <th>Operating Profit</th>\n",
       "      <th>Operating Margin</th>\n",
       "      <th>Sales Method</th>\n",
       "      <th>Region</th>\n",
       "      <th>State</th>\n",
       "      <th>City</th>\n",
       "    </tr>\n",
       "  </thead>\n",
       "  <tbody>\n",
       "    <tr>\n",
       "      <th>0</th>\n",
       "      <td>Foot Locker</td>\n",
       "      <td>1185732</td>\n",
       "      <td>2020-01-01</td>\n",
       "      <td>New York-New York</td>\n",
       "      <td>Men's Street Footwear</td>\n",
       "      <td>50.0</td>\n",
       "      <td>1200.0</td>\n",
       "      <td>600000.0</td>\n",
       "      <td>300000.0</td>\n",
       "      <td>50%</td>\n",
       "      <td>In-store</td>\n",
       "      <td>Northeast</td>\n",
       "      <td>New York</td>\n",
       "      <td>New York</td>\n",
       "    </tr>\n",
       "    <tr>\n",
       "      <th>1</th>\n",
       "      <td>Foot Locker</td>\n",
       "      <td>1185732</td>\n",
       "      <td>2020-01-02</td>\n",
       "      <td>New York-New York</td>\n",
       "      <td>Men's Athletic Footwear</td>\n",
       "      <td>50.0</td>\n",
       "      <td>1000.0</td>\n",
       "      <td>500000.0</td>\n",
       "      <td>150000.0</td>\n",
       "      <td>30%</td>\n",
       "      <td>In-store</td>\n",
       "      <td>Northeast</td>\n",
       "      <td>New York</td>\n",
       "      <td>New York</td>\n",
       "    </tr>\n",
       "    <tr>\n",
       "      <th>2</th>\n",
       "      <td>Foot Locker</td>\n",
       "      <td>1185732</td>\n",
       "      <td>2020-01-03</td>\n",
       "      <td>New York-New York</td>\n",
       "      <td>Women's Street Footwear</td>\n",
       "      <td>40.0</td>\n",
       "      <td>1000.0</td>\n",
       "      <td>400000.0</td>\n",
       "      <td>140000.0</td>\n",
       "      <td>35%</td>\n",
       "      <td>In-store</td>\n",
       "      <td>Northeast</td>\n",
       "      <td>New York</td>\n",
       "      <td>New York</td>\n",
       "    </tr>\n",
       "    <tr>\n",
       "      <th>3</th>\n",
       "      <td>Foot Locker</td>\n",
       "      <td>1185732</td>\n",
       "      <td>2020-01-04</td>\n",
       "      <td>New York-New York</td>\n",
       "      <td>Women's Athletic Footwear</td>\n",
       "      <td>45.0</td>\n",
       "      <td>850.0</td>\n",
       "      <td>382500.0</td>\n",
       "      <td>133875.0</td>\n",
       "      <td>35%</td>\n",
       "      <td>In-store</td>\n",
       "      <td>Northeast</td>\n",
       "      <td>New York</td>\n",
       "      <td>New York</td>\n",
       "    </tr>\n",
       "    <tr>\n",
       "      <th>4</th>\n",
       "      <td>Foot Locker</td>\n",
       "      <td>1185732</td>\n",
       "      <td>2020-01-05</td>\n",
       "      <td>New York-New York</td>\n",
       "      <td>Men's Apparel</td>\n",
       "      <td>60.0</td>\n",
       "      <td>900.0</td>\n",
       "      <td>540000.0</td>\n",
       "      <td>162000.0</td>\n",
       "      <td>30%</td>\n",
       "      <td>In-store</td>\n",
       "      <td>Northeast</td>\n",
       "      <td>New York</td>\n",
       "      <td>New York</td>\n",
       "    </tr>\n",
       "    <tr>\n",
       "      <th>...</th>\n",
       "      <td>...</td>\n",
       "      <td>...</td>\n",
       "      <td>...</td>\n",
       "      <td>...</td>\n",
       "      <td>...</td>\n",
       "      <td>...</td>\n",
       "      <td>...</td>\n",
       "      <td>...</td>\n",
       "      <td>...</td>\n",
       "      <td>...</td>\n",
       "      <td>...</td>\n",
       "      <td>...</td>\n",
       "      <td>...</td>\n",
       "      <td>...</td>\n",
       "    </tr>\n",
       "    <tr>\n",
       "      <th>2227</th>\n",
       "      <td>Foot Locker</td>\n",
       "      <td>1185732</td>\n",
       "      <td>2020-12-27</td>\n",
       "      <td>Minnesota-Minneapolis</td>\n",
       "      <td>Women's Apparel</td>\n",
       "      <td>54.0</td>\n",
       "      <td>77.0</td>\n",
       "      <td>4158.0</td>\n",
       "      <td>2370.0</td>\n",
       "      <td>57%</td>\n",
       "      <td>Online</td>\n",
       "      <td>Midwest</td>\n",
       "      <td>Minnesota</td>\n",
       "      <td>Minneapolis</td>\n",
       "    </tr>\n",
       "    <tr>\n",
       "      <th>2228</th>\n",
       "      <td>Kohl's</td>\n",
       "      <td>1189833</td>\n",
       "      <td>2020-12-28</td>\n",
       "      <td>Minnesota-Minneapolis</td>\n",
       "      <td>Men's Street Footwear</td>\n",
       "      <td>32.0</td>\n",
       "      <td>119.0</td>\n",
       "      <td>3808.0</td>\n",
       "      <td>2209.0</td>\n",
       "      <td>58%</td>\n",
       "      <td>Online</td>\n",
       "      <td>Midwest</td>\n",
       "      <td>Minnesota</td>\n",
       "      <td>Minneapolis</td>\n",
       "    </tr>\n",
       "    <tr>\n",
       "      <th>2229</th>\n",
       "      <td>Kohl's</td>\n",
       "      <td>1189833</td>\n",
       "      <td>2020-12-29</td>\n",
       "      <td>Minnesota-Minneapolis</td>\n",
       "      <td>Men's Athletic Footwear</td>\n",
       "      <td>43.0</td>\n",
       "      <td>128.0</td>\n",
       "      <td>5504.0</td>\n",
       "      <td>2312.0</td>\n",
       "      <td>42%</td>\n",
       "      <td>Online</td>\n",
       "      <td>Midwest</td>\n",
       "      <td>Minnesota</td>\n",
       "      <td>Minneapolis</td>\n",
       "    </tr>\n",
       "    <tr>\n",
       "      <th>2230</th>\n",
       "      <td>Kohl's</td>\n",
       "      <td>1189833</td>\n",
       "      <td>2020-12-30</td>\n",
       "      <td>Minnesota-Minneapolis</td>\n",
       "      <td>Women's Street Footwear</td>\n",
       "      <td>41.0</td>\n",
       "      <td>119.0</td>\n",
       "      <td>4879.0</td>\n",
       "      <td>2879.0</td>\n",
       "      <td>59%</td>\n",
       "      <td>Online</td>\n",
       "      <td>Midwest</td>\n",
       "      <td>Minnesota</td>\n",
       "      <td>Minneapolis</td>\n",
       "    </tr>\n",
       "    <tr>\n",
       "      <th>2231</th>\n",
       "      <td>Kohl's</td>\n",
       "      <td>1189833</td>\n",
       "      <td>2020-12-31</td>\n",
       "      <td>Minnesota-Minneapolis</td>\n",
       "      <td>Women's Athletic Footwear</td>\n",
       "      <td>44.0</td>\n",
       "      <td>98.0</td>\n",
       "      <td>4312.0</td>\n",
       "      <td>2242.0</td>\n",
       "      <td>52%</td>\n",
       "      <td>Online</td>\n",
       "      <td>Midwest</td>\n",
       "      <td>Minnesota</td>\n",
       "      <td>Minneapolis</td>\n",
       "    </tr>\n",
       "  </tbody>\n",
       "</table>\n",
       "<p>1302 rows × 14 columns</p>\n",
       "</div>"
      ],
      "text/plain": [
       "         Retailer  Retailer ID Invoice Date           Location Key  \\\n",
       "0     Foot Locker      1185732   2020-01-01      New York-New York   \n",
       "1     Foot Locker      1185732   2020-01-02      New York-New York   \n",
       "2     Foot Locker      1185732   2020-01-03      New York-New York   \n",
       "3     Foot Locker      1185732   2020-01-04      New York-New York   \n",
       "4     Foot Locker      1185732   2020-01-05      New York-New York   \n",
       "...           ...          ...          ...                    ...   \n",
       "2227  Foot Locker      1185732   2020-12-27  Minnesota-Minneapolis   \n",
       "2228       Kohl's      1189833   2020-12-28  Minnesota-Minneapolis   \n",
       "2229       Kohl's      1189833   2020-12-29  Minnesota-Minneapolis   \n",
       "2230       Kohl's      1189833   2020-12-30  Minnesota-Minneapolis   \n",
       "2231       Kohl's      1189833   2020-12-31  Minnesota-Minneapolis   \n",
       "\n",
       "                        Product  Price per Unit  Units Sold  Total Sales  \\\n",
       "0         Men's Street Footwear            50.0      1200.0     600000.0   \n",
       "1       Men's Athletic Footwear            50.0      1000.0     500000.0   \n",
       "2       Women's Street Footwear            40.0      1000.0     400000.0   \n",
       "3     Women's Athletic Footwear            45.0       850.0     382500.0   \n",
       "4                 Men's Apparel            60.0       900.0     540000.0   \n",
       "...                         ...             ...         ...          ...   \n",
       "2227            Women's Apparel            54.0        77.0       4158.0   \n",
       "2228      Men's Street Footwear            32.0       119.0       3808.0   \n",
       "2229    Men's Athletic Footwear            43.0       128.0       5504.0   \n",
       "2230    Women's Street Footwear            41.0       119.0       4879.0   \n",
       "2231  Women's Athletic Footwear            44.0        98.0       4312.0   \n",
       "\n",
       "      Operating Profit Operating Margin Sales Method     Region      State  \\\n",
       "0             300000.0              50%     In-store  Northeast   New York   \n",
       "1             150000.0              30%     In-store  Northeast   New York   \n",
       "2             140000.0              35%     In-store  Northeast   New York   \n",
       "3             133875.0              35%     In-store  Northeast   New York   \n",
       "4             162000.0              30%     In-store  Northeast   New York   \n",
       "...                ...              ...          ...        ...        ...   \n",
       "2227            2370.0              57%       Online    Midwest  Minnesota   \n",
       "2228            2209.0              58%       Online    Midwest  Minnesota   \n",
       "2229            2312.0              42%       Online    Midwest  Minnesota   \n",
       "2230            2879.0              59%       Online    Midwest  Minnesota   \n",
       "2231            2242.0              52%       Online    Midwest  Minnesota   \n",
       "\n",
       "             City  \n",
       "0        New York  \n",
       "1        New York  \n",
       "2        New York  \n",
       "3        New York  \n",
       "4        New York  \n",
       "...           ...  \n",
       "2227  Minneapolis  \n",
       "2228  Minneapolis  \n",
       "2229  Minneapolis  \n",
       "2230  Minneapolis  \n",
       "2231  Minneapolis  \n",
       "\n",
       "[1302 rows x 14 columns]"
      ]
     },
     "execution_count": 59,
     "metadata": {},
     "output_type": "execute_result"
    }
   ],
   "source": [
    "dfn_2020"
   ]
  },
  {
   "cell_type": "code",
   "execution_count": 60,
   "metadata": {},
   "outputs": [],
   "source": [
    "dfn_2021 = dfn[dfn['Invoice Date'].between('1/1/2021', '12/31/2021')]"
   ]
  },
  {
   "cell_type": "code",
   "execution_count": 62,
   "metadata": {},
   "outputs": [
    {
     "data": {
      "text/html": [
       "<div>\n",
       "<style scoped>\n",
       "    .dataframe tbody tr th:only-of-type {\n",
       "        vertical-align: middle;\n",
       "    }\n",
       "\n",
       "    .dataframe tbody tr th {\n",
       "        vertical-align: top;\n",
       "    }\n",
       "\n",
       "    .dataframe thead th {\n",
       "        text-align: right;\n",
       "    }\n",
       "</style>\n",
       "<table border=\"1\" class=\"dataframe\">\n",
       "  <thead>\n",
       "    <tr style=\"text-align: right;\">\n",
       "      <th></th>\n",
       "      <th>Retailer</th>\n",
       "      <th>Retailer ID</th>\n",
       "      <th>Invoice Date</th>\n",
       "      <th>Location Key</th>\n",
       "      <th>Product</th>\n",
       "      <th>Price per Unit</th>\n",
       "      <th>Units Sold</th>\n",
       "      <th>Total Sales</th>\n",
       "      <th>Operating Profit</th>\n",
       "      <th>Operating Margin</th>\n",
       "      <th>Sales Method</th>\n",
       "      <th>Region</th>\n",
       "      <th>State</th>\n",
       "      <th>City</th>\n",
       "    </tr>\n",
       "  </thead>\n",
       "  <tbody>\n",
       "    <tr>\n",
       "      <th>453</th>\n",
       "      <td>West Gear</td>\n",
       "      <td>1128299</td>\n",
       "      <td>2021-01-01</td>\n",
       "      <td>California-San Francisco</td>\n",
       "      <td>Men's Athletic Footwear</td>\n",
       "      <td>65.0</td>\n",
       "      <td>750.0</td>\n",
       "      <td>487500.0</td>\n",
       "      <td>121875.0</td>\n",
       "      <td>25%</td>\n",
       "      <td>Outlet</td>\n",
       "      <td>West</td>\n",
       "      <td>California</td>\n",
       "      <td>San Francisco</td>\n",
       "    </tr>\n",
       "    <tr>\n",
       "      <th>454</th>\n",
       "      <td>West Gear</td>\n",
       "      <td>1128299</td>\n",
       "      <td>2021-01-02</td>\n",
       "      <td>California-San Francisco</td>\n",
       "      <td>Women's Street Footwear</td>\n",
       "      <td>65.0</td>\n",
       "      <td>750.0</td>\n",
       "      <td>487500.0</td>\n",
       "      <td>195000.0</td>\n",
       "      <td>40%</td>\n",
       "      <td>Outlet</td>\n",
       "      <td>West</td>\n",
       "      <td>California</td>\n",
       "      <td>San Francisco</td>\n",
       "    </tr>\n",
       "    <tr>\n",
       "      <th>455</th>\n",
       "      <td>West Gear</td>\n",
       "      <td>1128299</td>\n",
       "      <td>2021-01-03</td>\n",
       "      <td>California-San Francisco</td>\n",
       "      <td>Women's Athletic Footwear</td>\n",
       "      <td>60.0</td>\n",
       "      <td>650.0</td>\n",
       "      <td>390000.0</td>\n",
       "      <td>136500.0</td>\n",
       "      <td>35%</td>\n",
       "      <td>Outlet</td>\n",
       "      <td>West</td>\n",
       "      <td>California</td>\n",
       "      <td>San Francisco</td>\n",
       "    </tr>\n",
       "    <tr>\n",
       "      <th>456</th>\n",
       "      <td>West Gear</td>\n",
       "      <td>1128299</td>\n",
       "      <td>2021-01-04</td>\n",
       "      <td>California-San Francisco</td>\n",
       "      <td>Men's Apparel</td>\n",
       "      <td>65.0</td>\n",
       "      <td>550.0</td>\n",
       "      <td>357500.0</td>\n",
       "      <td>196625.0</td>\n",
       "      <td>55%</td>\n",
       "      <td>Outlet</td>\n",
       "      <td>West</td>\n",
       "      <td>California</td>\n",
       "      <td>San Francisco</td>\n",
       "    </tr>\n",
       "    <tr>\n",
       "      <th>457</th>\n",
       "      <td>West Gear</td>\n",
       "      <td>1128299</td>\n",
       "      <td>2021-01-05</td>\n",
       "      <td>California-San Francisco</td>\n",
       "      <td>Women's Apparel</td>\n",
       "      <td>80.0</td>\n",
       "      <td>725.0</td>\n",
       "      <td>580000.0</td>\n",
       "      <td>116000.0</td>\n",
       "      <td>20%</td>\n",
       "      <td>Outlet</td>\n",
       "      <td>West</td>\n",
       "      <td>California</td>\n",
       "      <td>San Francisco</td>\n",
       "    </tr>\n",
       "    <tr>\n",
       "      <th>...</th>\n",
       "      <td>...</td>\n",
       "      <td>...</td>\n",
       "      <td>...</td>\n",
       "      <td>...</td>\n",
       "      <td>...</td>\n",
       "      <td>...</td>\n",
       "      <td>...</td>\n",
       "      <td>...</td>\n",
       "      <td>...</td>\n",
       "      <td>...</td>\n",
       "      <td>...</td>\n",
       "      <td>...</td>\n",
       "      <td>...</td>\n",
       "      <td>...</td>\n",
       "    </tr>\n",
       "    <tr>\n",
       "      <th>9643</th>\n",
       "      <td>Foot Locker</td>\n",
       "      <td>1185732</td>\n",
       "      <td>2021-01-24</td>\n",
       "      <td>New Hampshire-Manchester</td>\n",
       "      <td>Men's Apparel</td>\n",
       "      <td>50.0</td>\n",
       "      <td>64.0</td>\n",
       "      <td>3200.0</td>\n",
       "      <td>896.0</td>\n",
       "      <td>28%</td>\n",
       "      <td>Outlet</td>\n",
       "      <td>Northeast</td>\n",
       "      <td>New Hampshire</td>\n",
       "      <td>Manchester</td>\n",
       "    </tr>\n",
       "    <tr>\n",
       "      <th>9644</th>\n",
       "      <td>Foot Locker</td>\n",
       "      <td>1185732</td>\n",
       "      <td>2021-01-24</td>\n",
       "      <td>New Hampshire-Manchester</td>\n",
       "      <td>Women's Apparel</td>\n",
       "      <td>41.0</td>\n",
       "      <td>105.0</td>\n",
       "      <td>4305.0</td>\n",
       "      <td>1378.0</td>\n",
       "      <td>32%</td>\n",
       "      <td>Outlet</td>\n",
       "      <td>Northeast</td>\n",
       "      <td>New Hampshire</td>\n",
       "      <td>Manchester</td>\n",
       "    </tr>\n",
       "    <tr>\n",
       "      <th>9645</th>\n",
       "      <td>Foot Locker</td>\n",
       "      <td>1185732</td>\n",
       "      <td>2021-02-22</td>\n",
       "      <td>New Hampshire-Manchester</td>\n",
       "      <td>Men's Street Footwear</td>\n",
       "      <td>41.0</td>\n",
       "      <td>184.0</td>\n",
       "      <td>7544.0</td>\n",
       "      <td>2791.0</td>\n",
       "      <td>37%</td>\n",
       "      <td>Outlet</td>\n",
       "      <td>Northeast</td>\n",
       "      <td>New Hampshire</td>\n",
       "      <td>Manchester</td>\n",
       "    </tr>\n",
       "    <tr>\n",
       "      <th>9646</th>\n",
       "      <td>Foot Locker</td>\n",
       "      <td>1185732</td>\n",
       "      <td>2021-02-22</td>\n",
       "      <td>New Hampshire-Manchester</td>\n",
       "      <td>Men's Athletic Footwear</td>\n",
       "      <td>42.0</td>\n",
       "      <td>70.0</td>\n",
       "      <td>2940.0</td>\n",
       "      <td>1235.0</td>\n",
       "      <td>42%</td>\n",
       "      <td>Outlet</td>\n",
       "      <td>Northeast</td>\n",
       "      <td>New Hampshire</td>\n",
       "      <td>Manchester</td>\n",
       "    </tr>\n",
       "    <tr>\n",
       "      <th>9647</th>\n",
       "      <td>Foot Locker</td>\n",
       "      <td>1185732</td>\n",
       "      <td>2021-02-22</td>\n",
       "      <td>New Hampshire-Manchester</td>\n",
       "      <td>Women's Street Footwear</td>\n",
       "      <td>29.0</td>\n",
       "      <td>83.0</td>\n",
       "      <td>2407.0</td>\n",
       "      <td>650.0</td>\n",
       "      <td>27%</td>\n",
       "      <td>Outlet</td>\n",
       "      <td>Northeast</td>\n",
       "      <td>New Hampshire</td>\n",
       "      <td>Manchester</td>\n",
       "    </tr>\n",
       "  </tbody>\n",
       "</table>\n",
       "<p>8346 rows × 14 columns</p>\n",
       "</div>"
      ],
      "text/plain": [
       "         Retailer  Retailer ID Invoice Date              Location Key  \\\n",
       "453     West Gear      1128299   2021-01-01  California-San Francisco   \n",
       "454     West Gear      1128299   2021-01-02  California-San Francisco   \n",
       "455     West Gear      1128299   2021-01-03  California-San Francisco   \n",
       "456     West Gear      1128299   2021-01-04  California-San Francisco   \n",
       "457     West Gear      1128299   2021-01-05  California-San Francisco   \n",
       "...           ...          ...          ...                       ...   \n",
       "9643  Foot Locker      1185732   2021-01-24  New Hampshire-Manchester   \n",
       "9644  Foot Locker      1185732   2021-01-24  New Hampshire-Manchester   \n",
       "9645  Foot Locker      1185732   2021-02-22  New Hampshire-Manchester   \n",
       "9646  Foot Locker      1185732   2021-02-22  New Hampshire-Manchester   \n",
       "9647  Foot Locker      1185732   2021-02-22  New Hampshire-Manchester   \n",
       "\n",
       "                        Product  Price per Unit  Units Sold  Total Sales  \\\n",
       "453     Men's Athletic Footwear            65.0       750.0     487500.0   \n",
       "454     Women's Street Footwear            65.0       750.0     487500.0   \n",
       "455   Women's Athletic Footwear            60.0       650.0     390000.0   \n",
       "456               Men's Apparel            65.0       550.0     357500.0   \n",
       "457             Women's Apparel            80.0       725.0     580000.0   \n",
       "...                         ...             ...         ...          ...   \n",
       "9643              Men's Apparel            50.0        64.0       3200.0   \n",
       "9644            Women's Apparel            41.0       105.0       4305.0   \n",
       "9645      Men's Street Footwear            41.0       184.0       7544.0   \n",
       "9646    Men's Athletic Footwear            42.0        70.0       2940.0   \n",
       "9647    Women's Street Footwear            29.0        83.0       2407.0   \n",
       "\n",
       "      Operating Profit Operating Margin Sales Method     Region  \\\n",
       "453           121875.0              25%       Outlet       West   \n",
       "454           195000.0              40%       Outlet       West   \n",
       "455           136500.0              35%       Outlet       West   \n",
       "456           196625.0              55%       Outlet       West   \n",
       "457           116000.0              20%       Outlet       West   \n",
       "...                ...              ...          ...        ...   \n",
       "9643             896.0              28%       Outlet  Northeast   \n",
       "9644            1378.0              32%       Outlet  Northeast   \n",
       "9645            2791.0              37%       Outlet  Northeast   \n",
       "9646            1235.0              42%       Outlet  Northeast   \n",
       "9647             650.0              27%       Outlet  Northeast   \n",
       "\n",
       "              State           City  \n",
       "453      California  San Francisco  \n",
       "454      California  San Francisco  \n",
       "455      California  San Francisco  \n",
       "456      California  San Francisco  \n",
       "457      California  San Francisco  \n",
       "...             ...            ...  \n",
       "9643  New Hampshire     Manchester  \n",
       "9644  New Hampshire     Manchester  \n",
       "9645  New Hampshire     Manchester  \n",
       "9646  New Hampshire     Manchester  \n",
       "9647  New Hampshire     Manchester  \n",
       "\n",
       "[8346 rows x 14 columns]"
      ]
     },
     "execution_count": 62,
     "metadata": {},
     "output_type": "execute_result"
    }
   ],
   "source": [
    "dfn_2021"
   ]
  },
  {
   "cell_type": "code",
   "execution_count": 168,
   "metadata": {},
   "outputs": [
    {
     "name": "stderr",
     "output_type": "stream",
     "text": [
      "C:\\Users\\LENOVO\\AppData\\Local\\Temp\\ipykernel_10848\\484647046.py:1: FutureWarning: The default value of numeric_only in DataFrameGroupBy.sum is deprecated. In a future version, numeric_only will default to False. Either specify numeric_only or select only columns which should be valid for the function.\n",
      "  percentage_2020 = dfn_2020.groupby(dfn_2020['Region']).sum()\n"
     ]
    },
    {
     "data": {
      "text/html": [
       "<div>\n",
       "<style scoped>\n",
       "    .dataframe tbody tr th:only-of-type {\n",
       "        vertical-align: middle;\n",
       "    }\n",
       "\n",
       "    .dataframe tbody tr th {\n",
       "        vertical-align: top;\n",
       "    }\n",
       "\n",
       "    .dataframe thead th {\n",
       "        text-align: right;\n",
       "    }\n",
       "</style>\n",
       "<table border=\"1\" class=\"dataframe\">\n",
       "  <thead>\n",
       "    <tr style=\"text-align: right;\">\n",
       "      <th></th>\n",
       "      <th>Region</th>\n",
       "      <th>Retailer ID</th>\n",
       "      <th>Price per Unit</th>\n",
       "      <th>Units Sold</th>\n",
       "      <th>Total Sales</th>\n",
       "      <th>Operating Profit</th>\n",
       "    </tr>\n",
       "  </thead>\n",
       "  <tbody>\n",
       "    <tr>\n",
       "      <th>0</th>\n",
       "      <td>Midwest</td>\n",
       "      <td>170778216</td>\n",
       "      <td>5957.0</td>\n",
       "      <td>20838.0</td>\n",
       "      <td>4.05</td>\n",
       "      <td>2670235.0</td>\n",
       "    </tr>\n",
       "    <tr>\n",
       "      <th>1</th>\n",
       "      <td>Northeast</td>\n",
       "      <td>273360084</td>\n",
       "      <td>11012.0</td>\n",
       "      <td>115011.0</td>\n",
       "      <td>22.38</td>\n",
       "      <td>14222804.0</td>\n",
       "    </tr>\n",
       "    <tr>\n",
       "      <th>2</th>\n",
       "      <td>South</td>\n",
       "      <td>257897112</td>\n",
       "      <td>8265.0</td>\n",
       "      <td>90322.0</td>\n",
       "      <td>13.98</td>\n",
       "      <td>9845140.0</td>\n",
       "    </tr>\n",
       "    <tr>\n",
       "      <th>3</th>\n",
       "      <td>Southeast</td>\n",
       "      <td>170745408</td>\n",
       "      <td>7317.0</td>\n",
       "      <td>73135.0</td>\n",
       "      <td>17.36</td>\n",
       "      <td>12168628.0</td>\n",
       "    </tr>\n",
       "    <tr>\n",
       "      <th>4</th>\n",
       "      <td>West</td>\n",
       "      <td>640204997</td>\n",
       "      <td>33369.0</td>\n",
       "      <td>163043.0</td>\n",
       "      <td>42.23</td>\n",
       "      <td>24468903.0</td>\n",
       "    </tr>\n",
       "  </tbody>\n",
       "</table>\n",
       "</div>"
      ],
      "text/plain": [
       "      Region  Retailer ID  Price per Unit  Units Sold  Total Sales  \\\n",
       "0    Midwest    170778216          5957.0     20838.0         4.05   \n",
       "1  Northeast    273360084         11012.0    115011.0        22.38   \n",
       "2      South    257897112          8265.0     90322.0        13.98   \n",
       "3  Southeast    170745408          7317.0     73135.0        17.36   \n",
       "4       West    640204997         33369.0    163043.0        42.23   \n",
       "\n",
       "   Operating Profit  \n",
       "0         2670235.0  \n",
       "1        14222804.0  \n",
       "2         9845140.0  \n",
       "3        12168628.0  \n",
       "4        24468903.0  "
      ]
     },
     "execution_count": 168,
     "metadata": {},
     "output_type": "execute_result"
    }
   ],
   "source": [
    "percentage_2020 = dfn_2020.groupby(dfn_2020['Region']).sum()\n",
    "percentage_2020['Total Sales']  = (percentage_2020['Total Sales'] / sum(dfn_2020['Total Sales'])) * 100\n",
    "percentage_2020['Total Sales'] = percentage_2020['Total Sales'].apply(lambda x: float('%.2f' %x))\n",
    "percentage_2020 = percentage_2020.reset_index()\n",
    "percentage_2020"
   ]
  },
  {
   "cell_type": "code",
   "execution_count": 171,
   "metadata": {},
   "outputs": [
    {
     "data": {
      "image/png": "[encoded data removed]",
      "text/plain": [
       "<Figure size 800x800 with 1 Axes>"
      ]
     },
     "metadata": {},
     "output_type": "display_data"
    }
   ],
   "source": [
    "plt.figure(figsize=(8,8))\n",
    "plt.pie(percentage_2020['Total Sales'], labels=percentage_2020['Region'], autopct='%1.2f%%', explode=[0.05, 0.05, 0.05, 0.05, 0.05])\n",
    "plt.title('Tỉ lệ \"%\" doanh thu năm 2020 theo từng khu vực')\n",
    "plt.show()"
   ]
  },
  {
   "cell_type": "code",
   "execution_count": 166,
   "metadata": {},
   "outputs": [
    {
     "name": "stderr",
     "output_type": "stream",
     "text": [
      "C:\\Users\\LENOVO\\AppData\\Local\\Temp\\ipykernel_10848\\2579207540.py:1: FutureWarning: The default value of numeric_only in DataFrameGroupBy.sum is deprecated. In a future version, numeric_only will default to False. Either specify numeric_only or select only columns which should be valid for the function.\n",
      "  percentage_2021 = dfn_2021.groupby(dfn_2021['Region']).sum()\n"
     ]
    },
    {
     "data": {
      "text/html": [
       "<div>\n",
       "<style scoped>\n",
       "    .dataframe tbody tr th:only-of-type {\n",
       "        vertical-align: middle;\n",
       "    }\n",
       "\n",
       "    .dataframe tbody tr th {\n",
       "        vertical-align: top;\n",
       "    }\n",
       "\n",
       "    .dataframe thead th {\n",
       "        text-align: right;\n",
       "    }\n",
       "</style>\n",
       "<table border=\"1\" class=\"dataframe\">\n",
       "  <thead>\n",
       "    <tr style=\"text-align: right;\">\n",
       "      <th></th>\n",
       "      <th>Region</th>\n",
       "      <th>Retailer ID</th>\n",
       "      <th>Price per Unit</th>\n",
       "      <th>Units Sold</th>\n",
       "      <th>Total Sales</th>\n",
       "      <th>Operating Profit</th>\n",
       "    </tr>\n",
       "  </thead>\n",
       "  <tbody>\n",
       "    <tr>\n",
       "      <th>0</th>\n",
       "      <td>Midwest</td>\n",
       "      <td>2051317482</td>\n",
       "      <td>69601.0</td>\n",
       "      <td>370499.0</td>\n",
       "      <td>17.89</td>\n",
       "      <td>50141177.0</td>\n",
       "    </tr>\n",
       "    <tr>\n",
       "      <th>1</th>\n",
       "      <td>Northeast</td>\n",
       "      <td>2542935676</td>\n",
       "      <td>99927.0</td>\n",
       "      <td>386268.0</td>\n",
       "      <td>20.28</td>\n",
       "      <td>53797884.0</td>\n",
       "    </tr>\n",
       "    <tr>\n",
       "      <th>2</th>\n",
       "      <td>South</td>\n",
       "      <td>1795256649</td>\n",
       "      <td>57808.0</td>\n",
       "      <td>401938.0</td>\n",
       "      <td>16.61</td>\n",
       "      <td>51292904.0</td>\n",
       "    </tr>\n",
       "    <tr>\n",
       "      <th>3</th>\n",
       "      <td>Southeast</td>\n",
       "      <td>1248026049</td>\n",
       "      <td>54107.0</td>\n",
       "      <td>333865.0</td>\n",
       "      <td>18.33</td>\n",
       "      <td>48386834.0</td>\n",
       "    </tr>\n",
       "    <tr>\n",
       "      <th>4</th>\n",
       "      <td>West</td>\n",
       "      <td>2174780460</td>\n",
       "      <td>88887.0</td>\n",
       "      <td>523942.0</td>\n",
       "      <td>26.89</td>\n",
       "      <td>65140613.0</td>\n",
       "    </tr>\n",
       "  </tbody>\n",
       "</table>\n",
       "</div>"
      ],
      "text/plain": [
       "      Region  Retailer ID  Price per Unit  Units Sold  Total Sales  \\\n",
       "0    Midwest   2051317482         69601.0    370499.0        17.89   \n",
       "1  Northeast   2542935676         99927.0    386268.0        20.28   \n",
       "2      South   1795256649         57808.0    401938.0        16.61   \n",
       "3  Southeast   1248026049         54107.0    333865.0        18.33   \n",
       "4       West   2174780460         88887.0    523942.0        26.89   \n",
       "\n",
       "   Operating Profit  \n",
       "0        50141177.0  \n",
       "1        53797884.0  \n",
       "2        51292904.0  \n",
       "3        48386834.0  \n",
       "4        65140613.0  "
      ]
     },
     "execution_count": 166,
     "metadata": {},
     "output_type": "execute_result"
    }
   ],
   "source": [
    "percentage_2021 = dfn_2021.groupby(dfn_2021['Region']).sum()\n",
    "percentage_2021['Total Sales']  = (percentage_2021['Total Sales'] / sum(dfn_2021['Total Sales'])) * 100\n",
    "percentage_2021['Total Sales'] = percentage_2021['Total Sales'].apply(lambda x: float('%.2f' %x))\n",
    "percentage_2021 = percentage_2021.reset_index()\n",
    "percentage_2021"
   ]
  },
  {
   "cell_type": "code",
   "execution_count": 170,
   "metadata": {},
   "outputs": [
    {
     "data": {
      "image/png": "[encoded data removed]",
      "text/plain": [
       "<Figure size 800x800 with 1 Axes>"
      ]
     },
     "metadata": {},
     "output_type": "display_data"
    }
   ],
   "source": [
    "plt.figure(figsize=(8,8))\n",
    "plt.pie(percentage_2021['Total Sales'], labels=percentage_2021['Region'], autopct='%1.2f%%', explode=[0.05, 0.05, 0.05, 0.05, 0.05])\n",
    "plt.title('Tỉ lệ \"%\" doanh thu năm 2021 theo từng khu vực')\n",
    "plt.show()"
   ]
  },
  {
   "cell_type": "markdown",
   "metadata": {},
   "source": [
    "tiếp theo ta sẽ so sánh doanh thu từng mục sản phẩm của năm 2020 và 2021"
   ]
  },
  {
   "cell_type": "code",
   "execution_count": 185,
   "metadata": {},
   "outputs": [
    {
     "name": "stderr",
     "output_type": "stream",
     "text": [
      "C:\\Users\\LENOVO\\AppData\\Local\\Temp\\ipykernel_10848\\2831448348.py:1: FutureWarning: The default value of numeric_only in DataFrameGroupBy.sum is deprecated. In a future version, numeric_only will default to False. Either specify numeric_only or select only columns which should be valid for the function.\n",
      "  sale_by_product_20 = dfn_2020.groupby(dfn_2020['Product']).sum()\n"
     ]
    },
    {
     "data": {
      "text/html": [
       "<div>\n",
       "<style scoped>\n",
       "    .dataframe tbody tr th:only-of-type {\n",
       "        vertical-align: middle;\n",
       "    }\n",
       "\n",
       "    .dataframe tbody tr th {\n",
       "        vertical-align: top;\n",
       "    }\n",
       "\n",
       "    .dataframe thead th {\n",
       "        text-align: right;\n",
       "    }\n",
       "</style>\n",
       "<table border=\"1\" class=\"dataframe\">\n",
       "  <thead>\n",
       "    <tr style=\"text-align: right;\">\n",
       "      <th></th>\n",
       "      <th>Product</th>\n",
       "      <th>Retailer ID</th>\n",
       "      <th>Price per Unit</th>\n",
       "      <th>Units Sold</th>\n",
       "      <th>Total Sales</th>\n",
       "      <th>Operating Profit</th>\n",
       "    </tr>\n",
       "  </thead>\n",
       "  <tbody>\n",
       "    <tr>\n",
       "      <th>4</th>\n",
       "      <td>Women's Athletic Footwear</td>\n",
       "      <td>250990877</td>\n",
       "      <td>10203.0</td>\n",
       "      <td>64177.0</td>\n",
       "      <td>23629892.0</td>\n",
       "      <td>8290748.0</td>\n",
       "    </tr>\n",
       "    <tr>\n",
       "      <th>0</th>\n",
       "      <td>Men's Apparel</td>\n",
       "      <td>251040108</td>\n",
       "      <td>11825.0</td>\n",
       "      <td>61227.0</td>\n",
       "      <td>26216964.0</td>\n",
       "      <td>9660079.0</td>\n",
       "    </tr>\n",
       "    <tr>\n",
       "      <th>5</th>\n",
       "      <td>Women's Street Footwear</td>\n",
       "      <td>250990877</td>\n",
       "      <td>10138.0</td>\n",
       "      <td>75791.0</td>\n",
       "      <td>27426005.0</td>\n",
       "      <td>9203865.0</td>\n",
       "    </tr>\n",
       "    <tr>\n",
       "      <th>1</th>\n",
       "      <td>Men's Athletic Footwear</td>\n",
       "      <td>250990877</td>\n",
       "      <td>10793.0</td>\n",
       "      <td>81760.0</td>\n",
       "      <td>31794462.0</td>\n",
       "      <td>9359264.0</td>\n",
       "    </tr>\n",
       "    <tr>\n",
       "      <th>3</th>\n",
       "      <td>Women's Apparel</td>\n",
       "      <td>254597304</td>\n",
       "      <td>12502.0</td>\n",
       "      <td>80208.0</td>\n",
       "      <td>35190332.0</td>\n",
       "      <td>11302907.0</td>\n",
       "    </tr>\n",
       "    <tr>\n",
       "      <th>2</th>\n",
       "      <td>Men's Street Footwear</td>\n",
       "      <td>254375774</td>\n",
       "      <td>10459.0</td>\n",
       "      <td>99186.0</td>\n",
       "      <td>37823020.0</td>\n",
       "      <td>15558847.0</td>\n",
       "    </tr>\n",
       "  </tbody>\n",
       "</table>\n",
       "</div>"
      ],
      "text/plain": [
       "                     Product  Retailer ID  Price per Unit  Units Sold  \\\n",
       "4  Women's Athletic Footwear    250990877         10203.0     64177.0   \n",
       "0              Men's Apparel    251040108         11825.0     61227.0   \n",
       "5    Women's Street Footwear    250990877         10138.0     75791.0   \n",
       "1    Men's Athletic Footwear    250990877         10793.0     81760.0   \n",
       "3            Women's Apparel    254597304         12502.0     80208.0   \n",
       "2      Men's Street Footwear    254375774         10459.0     99186.0   \n",
       "\n",
       "   Total Sales  Operating Profit  \n",
       "4   23629892.0         8290748.0  \n",
       "0   26216964.0         9660079.0  \n",
       "5   27426005.0         9203865.0  \n",
       "1   31794462.0         9359264.0  \n",
       "3   35190332.0        11302907.0  \n",
       "2   37823020.0        15558847.0  "
      ]
     },
     "execution_count": 185,
     "metadata": {},
     "output_type": "execute_result"
    }
   ],
   "source": [
    "sale_by_product_20 = dfn_2020.groupby(dfn_2020['Product']).sum()\n",
    "sale_by_product_20 = sale_by_product_20.reset_index()\n",
    "sale_by_product_20 = sale_by_product_20.sort_values('Total Sales')\n",
    "sale_by_product_20"
   ]
  },
  {
   "cell_type": "code",
   "execution_count": 206,
   "metadata": {},
   "outputs": [
    {
     "data": {
      "image/png": "[encoded data removed]",
      "text/plain": [
       "<Figure size 640x480 with 1 Axes>"
      ]
     },
     "metadata": {},
     "output_type": "display_data"
    }
   ],
   "source": [
    "colors = ['r' if (bar == max(sale_by_product_20['Total Sales'])) else 'grey' for bar in sale_by_product_20['Total Sales']]\n",
    "plt.barh(sale_by_product_20['Product'], sale_by_product_20['Total Sales'], color=colors)\n",
    "plt.ticklabel_format(axis='x', style='plain')\n",
    "plt.title('Total Sales by Prodcut 2020')\n",
    "plt.xticks(rotation=90)\n",
    "plt.show()"
   ]
  },
  {
   "cell_type": "code",
   "execution_count": 207,
   "metadata": {},
   "outputs": [
    {
     "name": "stderr",
     "output_type": "stream",
     "text": [
      "C:\\Users\\LENOVO\\AppData\\Local\\Temp\\ipykernel_10848\\3357836910.py:1: FutureWarning: The default value of numeric_only in DataFrameGroupBy.sum is deprecated. In a future version, numeric_only will default to False. Either specify numeric_only or select only columns which should be valid for the function.\n",
      "  sale_by_product_21 = dfn_2021.groupby(dfn_2021['Product']).sum()\n"
     ]
    },
    {
     "data": {
      "text/html": [
       "<div>\n",
       "<style scoped>\n",
       "    .dataframe tbody tr th:only-of-type {\n",
       "        vertical-align: middle;\n",
       "    }\n",
       "\n",
       "    .dataframe tbody tr th {\n",
       "        vertical-align: top;\n",
       "    }\n",
       "\n",
       "    .dataframe thead th {\n",
       "        text-align: right;\n",
       "    }\n",
       "</style>\n",
       "<table border=\"1\" class=\"dataframe\">\n",
       "  <thead>\n",
       "    <tr style=\"text-align: right;\">\n",
       "      <th></th>\n",
       "      <th>Product</th>\n",
       "      <th>Retailer ID</th>\n",
       "      <th>Price per Unit</th>\n",
       "      <th>Units Sold</th>\n",
       "      <th>Total Sales</th>\n",
       "      <th>Operating Profit</th>\n",
       "    </tr>\n",
       "  </thead>\n",
       "  <tbody>\n",
       "    <tr>\n",
       "      <th>4</th>\n",
       "      <td>Women's Athletic Footwear</td>\n",
       "      <td>1634055000</td>\n",
       "      <td>55824.0</td>\n",
       "      <td>253059.0</td>\n",
       "      <td>83002004.0</td>\n",
       "      <td>30685095.0</td>\n",
       "    </tr>\n",
       "    <tr>\n",
       "      <th>0</th>\n",
       "      <td>Men's Apparel</td>\n",
       "      <td>1634214365</td>\n",
       "      <td>68992.0</td>\n",
       "      <td>245456.0</td>\n",
       "      <td>97511668.0</td>\n",
       "      <td>35103020.0</td>\n",
       "    </tr>\n",
       "    <tr>\n",
       "      <th>5</th>\n",
       "      <td>Women's Street Footwear</td>\n",
       "      <td>1636553429</td>\n",
       "      <td>54588.0</td>\n",
       "      <td>316478.0</td>\n",
       "      <td>100576808.0</td>\n",
       "      <td>35892032.0</td>\n",
       "    </tr>\n",
       "    <tr>\n",
       "      <th>1</th>\n",
       "      <td>Men's Athletic Footwear</td>\n",
       "      <td>1638924893</td>\n",
       "      <td>59692.0</td>\n",
       "      <td>353766.0</td>\n",
       "      <td>121879218.0</td>\n",
       "      <td>42487700.0</td>\n",
       "    </tr>\n",
       "    <tr>\n",
       "      <th>3</th>\n",
       "      <td>Women's Apparel</td>\n",
       "      <td>1633028633</td>\n",
       "      <td>70472.0</td>\n",
       "      <td>353619.0</td>\n",
       "      <td>143848528.0</td>\n",
       "      <td>57348089.0</td>\n",
       "    </tr>\n",
       "    <tr>\n",
       "      <th>2</th>\n",
       "      <td>Men's Street Footwear</td>\n",
       "      <td>1635539996</td>\n",
       "      <td>60762.0</td>\n",
       "      <td>494134.0</td>\n",
       "      <td>171003224.0</td>\n",
       "      <td>67243476.0</td>\n",
       "    </tr>\n",
       "  </tbody>\n",
       "</table>\n",
       "</div>"
      ],
      "text/plain": [
       "                     Product  Retailer ID  Price per Unit  Units Sold  \\\n",
       "4  Women's Athletic Footwear   1634055000         55824.0    253059.0   \n",
       "0              Men's Apparel   1634214365         68992.0    245456.0   \n",
       "5    Women's Street Footwear   1636553429         54588.0    316478.0   \n",
       "1    Men's Athletic Footwear   1638924893         59692.0    353766.0   \n",
       "3            Women's Apparel   1633028633         70472.0    353619.0   \n",
       "2      Men's Street Footwear   1635539996         60762.0    494134.0   \n",
       "\n",
       "   Total Sales  Operating Profit  \n",
       "4   83002004.0        30685095.0  \n",
       "0   97511668.0        35103020.0  \n",
       "5  100576808.0        35892032.0  \n",
       "1  121879218.0        42487700.0  \n",
       "3  143848528.0        57348089.0  \n",
       "2  171003224.0        67243476.0  "
      ]
     },
     "execution_count": 207,
     "metadata": {},
     "output_type": "execute_result"
    }
   ],
   "source": [
    "sale_by_product_21 = dfn_2021.groupby(dfn_2021['Product']).sum()\n",
    "sale_by_product_21 = sale_by_product_21.reset_index()\n",
    "sale_by_product_21 = sale_by_product_21.sort_values('Total Sales')\n",
    "sale_by_product_21"
   ]
  },
  {
   "cell_type": "code",
   "execution_count": 210,
   "metadata": {},
   "outputs": [
    {
     "data": {
      "image/png": "[encoded data removed]",
      "text/plain": [
       "<Figure size 640x480 with 1 Axes>"
      ]
     },
     "metadata": {},
     "output_type": "display_data"
    }
   ],
   "source": [
    "colors = ['r' if (bar == max(sale_by_product_21['Total Sales'])) else 'green' for bar in sale_by_product_21['Total Sales']]\n",
    "plt.barh(sale_by_product_21['Product'], sale_by_product_21['Total Sales'], color=colors)\n",
    "plt.ticklabel_format(axis='x', style='plain')\n",
    "plt.title('Total Sales by Prodcut 2021')\n",
    "plt.xticks(rotation=90)\n",
    "plt.show()"
   ]
  }
 ],
 "metadata": {
  "kernelspec": {
   "display_name": "Python 3",
   "language": "python",
   "name": "python3"
  },
  "language_info": {
   "codemirror_mode": {
    "name": "ipython",
    "version": 3
   },
   "file_extension": ".py",
   "mimetype": "text/x-python",
   "name": "python",
   "nbconvert_exporter": "python",
   "pygments_lexer": "ipython3",
   "version": "3.10.9"
  }
 },
 "nbformat": 4,
 "nbformat_minor": 2
}
